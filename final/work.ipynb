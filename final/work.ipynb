{
 "cells": [
  {
   "cell_type": "code",
   "execution_count": 15,
   "metadata": {},
   "outputs": [],
   "source": [
    "import pandas as pd"
   ]
  },
  {
   "cell_type": "code",
   "execution_count": 16,
   "metadata": {},
   "outputs": [
    {
     "name": "stdout",
     "output_type": "stream",
     "text": [
      "URL transformed to HTTPS due to an HSTS policy\n",
      "--2023-12-11 14:15:36--  https://data.phishtank.com/data/online-valid.csv\n",
      "Resolving data.phishtank.com (data.phishtank.com)... 104.16.101.75, 104.17.177.85\n",
      "Connecting to data.phishtank.com (data.phishtank.com)|104.16.101.75|:443... connected.\n",
      "HTTP request sent, awaiting response... 302 Found\n",
      "Location: https://cdn.phishtank.com/datadumps/verified_online.csv?Expires=1702321972&Signature=pqithwX1UprjZ3JeY2huwuB0NXgpzKLIwJSBT1TzcSRZOkAmutKXbuC2SVGz1TnVZm9SS-fVfS5bPUkkdL0fnc9r9Mz1Z2xfXbaVqn-jY5FLMe8rFQJruuOyWOXUZ6xp41vkUP9kvzdm7Lo68GnK83JkztC58Qky4RcezHzmdizdY~B~76CgHsTLC-t7IqA8lLt0eyMea0naNyDj~Y05JexPXhDNB12poIOJLb4Ij0YS4fEG71hnMOfK6VL9jZxcZnMe35SO6pFKZElKpbiVweK5p-KW1dCZHEWCEJNzULiAYhAubmA2ik83FeiFb9Zqd-d3Wc3I3m8A~nOM2Hl5Ig__&Key-Pair-Id=APKAILB45UG3RB4CSOJA [following]\n",
      "--2023-12-11 14:15:37--  https://cdn.phishtank.com/datadumps/verified_online.csv?Expires=1702321972&Signature=pqithwX1UprjZ3JeY2huwuB0NXgpzKLIwJSBT1TzcSRZOkAmutKXbuC2SVGz1TnVZm9SS-fVfS5bPUkkdL0fnc9r9Mz1Z2xfXbaVqn-jY5FLMe8rFQJruuOyWOXUZ6xp41vkUP9kvzdm7Lo68GnK83JkztC58Qky4RcezHzmdizdY~B~76CgHsTLC-t7IqA8lLt0eyMea0naNyDj~Y05JexPXhDNB12poIOJLb4Ij0YS4fEG71hnMOfK6VL9jZxcZnMe35SO6pFKZElKpbiVweK5p-KW1dCZHEWCEJNzULiAYhAubmA2ik83FeiFb9Zqd-d3Wc3I3m8A~nOM2Hl5Ig__&Key-Pair-Id=APKAILB45UG3RB4CSOJA\n",
      "Resolving cdn.phishtank.com (cdn.phishtank.com)... 104.17.177.85, 104.16.101.75\n",
      "Connecting to cdn.phishtank.com (cdn.phishtank.com)|104.17.177.85|:443... connected.\n",
      "HTTP request sent, awaiting response... 404 Not Found\n",
      "2023-12-11 14:15:37 ERROR 404: Not Found.\n",
      "\n"
     ]
    }
   ],
   "source": [
    "!wget http://data.phishtank.com/data/online-valid.csv"
   ]
  },
  {
   "cell_type": "code",
   "execution_count": 17,
   "metadata": {},
   "outputs": [
    {
     "data": {
      "text/html": [
       "<div>\n",
       "<style scoped>\n",
       "    .dataframe tbody tr th:only-of-type {\n",
       "        vertical-align: middle;\n",
       "    }\n",
       "\n",
       "    .dataframe tbody tr th {\n",
       "        vertical-align: top;\n",
       "    }\n",
       "\n",
       "    .dataframe thead th {\n",
       "        text-align: right;\n",
       "    }\n",
       "</style>\n",
       "<table border=\"1\" class=\"dataframe\">\n",
       "  <thead>\n",
       "    <tr style=\"text-align: right;\">\n",
       "      <th></th>\n",
       "      <th>phish_id</th>\n",
       "      <th>url</th>\n",
       "      <th>phish_detail_url</th>\n",
       "      <th>submission_time</th>\n",
       "      <th>verified</th>\n",
       "      <th>verification_time</th>\n",
       "      <th>online</th>\n",
       "      <th>target</th>\n",
       "    </tr>\n",
       "  </thead>\n",
       "  <tbody>\n",
       "    <tr>\n",
       "      <th>0</th>\n",
       "      <td>8383736</td>\n",
       "      <td>https://ip6038xe.square.site/</td>\n",
       "      <td>http://www.phishtank.com/phish_detail.php?phis...</td>\n",
       "      <td>2023-12-05T04:31:10+00:00</td>\n",
       "      <td>yes</td>\n",
       "      <td>2023-12-05T04:43:19+00:00</td>\n",
       "      <td>yes</td>\n",
       "      <td>Other</td>\n",
       "    </tr>\n",
       "    <tr>\n",
       "      <th>1</th>\n",
       "      <td>8383735</td>\n",
       "      <td>https://exdousrr.azurewebsites.net/</td>\n",
       "      <td>http://www.phishtank.com/phish_detail.php?phis...</td>\n",
       "      <td>2023-12-05T04:30:45+00:00</td>\n",
       "      <td>yes</td>\n",
       "      <td>2023-12-05T04:43:19+00:00</td>\n",
       "      <td>yes</td>\n",
       "      <td>Other</td>\n",
       "    </tr>\n",
       "    <tr>\n",
       "      <th>2</th>\n",
       "      <td>8383733</td>\n",
       "      <td>https://repository.nodeprotto.com/</td>\n",
       "      <td>http://www.phishtank.com/phish_detail.php?phis...</td>\n",
       "      <td>2023-12-05T04:18:28+00:00</td>\n",
       "      <td>yes</td>\n",
       "      <td>2023-12-05T04:23:16+00:00</td>\n",
       "      <td>yes</td>\n",
       "      <td>Other</td>\n",
       "    </tr>\n",
       "    <tr>\n",
       "      <th>3</th>\n",
       "      <td>8383732</td>\n",
       "      <td>http://repository.nodeprotto.com</td>\n",
       "      <td>http://www.phishtank.com/phish_detail.php?phis...</td>\n",
       "      <td>2023-12-05T04:18:27+00:00</td>\n",
       "      <td>yes</td>\n",
       "      <td>2023-12-05T04:23:16+00:00</td>\n",
       "      <td>yes</td>\n",
       "      <td>Other</td>\n",
       "    </tr>\n",
       "    <tr>\n",
       "      <th>4</th>\n",
       "      <td>8383726</td>\n",
       "      <td>https://qbapsvdp.square.site/</td>\n",
       "      <td>http://www.phishtank.com/phish_detail.php?phis...</td>\n",
       "      <td>2023-12-05T03:40:51+00:00</td>\n",
       "      <td>yes</td>\n",
       "      <td>2023-12-05T03:43:12+00:00</td>\n",
       "      <td>yes</td>\n",
       "      <td>Other</td>\n",
       "    </tr>\n",
       "  </tbody>\n",
       "</table>\n",
       "</div>"
      ],
      "text/plain": [
       "   phish_id                                  url  \\\n",
       "0   8383736        https://ip6038xe.square.site/   \n",
       "1   8383735  https://exdousrr.azurewebsites.net/   \n",
       "2   8383733   https://repository.nodeprotto.com/   \n",
       "3   8383732     http://repository.nodeprotto.com   \n",
       "4   8383726        https://qbapsvdp.square.site/   \n",
       "\n",
       "                                    phish_detail_url  \\\n",
       "0  http://www.phishtank.com/phish_detail.php?phis...   \n",
       "1  http://www.phishtank.com/phish_detail.php?phis...   \n",
       "2  http://www.phishtank.com/phish_detail.php?phis...   \n",
       "3  http://www.phishtank.com/phish_detail.php?phis...   \n",
       "4  http://www.phishtank.com/phish_detail.php?phis...   \n",
       "\n",
       "             submission_time verified          verification_time online target  \n",
       "0  2023-12-05T04:31:10+00:00      yes  2023-12-05T04:43:19+00:00    yes  Other  \n",
       "1  2023-12-05T04:30:45+00:00      yes  2023-12-05T04:43:19+00:00    yes  Other  \n",
       "2  2023-12-05T04:18:28+00:00      yes  2023-12-05T04:23:16+00:00    yes  Other  \n",
       "3  2023-12-05T04:18:27+00:00      yes  2023-12-05T04:23:16+00:00    yes  Other  \n",
       "4  2023-12-05T03:40:51+00:00      yes  2023-12-05T03:43:12+00:00    yes  Other  "
      ]
     },
     "execution_count": 17,
     "metadata": {},
     "output_type": "execute_result"
    }
   ],
   "source": [
    "data0 = pd.read_csv(\"online-valid.csv\")\n",
    "data0.head()"
   ]
  },
  {
   "cell_type": "code",
   "execution_count": 18,
   "metadata": {},
   "outputs": [
    {
     "data": {
      "text/plain": [
       "(38988, 8)"
      ]
     },
     "execution_count": 18,
     "metadata": {},
     "output_type": "execute_result"
    }
   ],
   "source": [
    "data0.shape"
   ]
  },
  {
   "cell_type": "code",
   "execution_count": 19,
   "metadata": {},
   "outputs": [
    {
     "data": {
      "text/html": [
       "<div>\n",
       "<style scoped>\n",
       "    .dataframe tbody tr th:only-of-type {\n",
       "        vertical-align: middle;\n",
       "    }\n",
       "\n",
       "    .dataframe tbody tr th {\n",
       "        vertical-align: top;\n",
       "    }\n",
       "\n",
       "    .dataframe thead th {\n",
       "        text-align: right;\n",
       "    }\n",
       "</style>\n",
       "<table border=\"1\" class=\"dataframe\">\n",
       "  <thead>\n",
       "    <tr style=\"text-align: right;\">\n",
       "      <th></th>\n",
       "      <th>phish_id</th>\n",
       "      <th>url</th>\n",
       "      <th>phish_detail_url</th>\n",
       "      <th>submission_time</th>\n",
       "      <th>verified</th>\n",
       "      <th>verification_time</th>\n",
       "      <th>online</th>\n",
       "      <th>target</th>\n",
       "    </tr>\n",
       "  </thead>\n",
       "  <tbody>\n",
       "    <tr>\n",
       "      <th>0</th>\n",
       "      <td>8346345</td>\n",
       "      <td>https://cloudflare-ipfs.com/ipfs/bafybeicq3rmo...</td>\n",
       "      <td>http://www.phishtank.com/phish_detail.php?phis...</td>\n",
       "      <td>2023-10-27T19:34:21+00:00</td>\n",
       "      <td>yes</td>\n",
       "      <td>2023-10-27T19:53:16+00:00</td>\n",
       "      <td>yes</td>\n",
       "      <td>Other</td>\n",
       "    </tr>\n",
       "    <tr>\n",
       "      <th>1</th>\n",
       "      <td>8139308</td>\n",
       "      <td>https://bpzqkfwpy.web.app/</td>\n",
       "      <td>http://www.phishtank.com/phish_detail.php?phis...</td>\n",
       "      <td>2023-05-06T03:51:33+00:00</td>\n",
       "      <td>yes</td>\n",
       "      <td>2023-05-06T04:03:23+00:00</td>\n",
       "      <td>yes</td>\n",
       "      <td>Other</td>\n",
       "    </tr>\n",
       "    <tr>\n",
       "      <th>2</th>\n",
       "      <td>8367344</td>\n",
       "      <td>https://lawebdegerald-1322273052.cos.sa-saopau...</td>\n",
       "      <td>http://www.phishtank.com/phish_detail.php?phis...</td>\n",
       "      <td>2023-11-17T11:18:43+00:00</td>\n",
       "      <td>yes</td>\n",
       "      <td>2023-11-17T11:23:29+00:00</td>\n",
       "      <td>yes</td>\n",
       "      <td>Other</td>\n",
       "    </tr>\n",
       "    <tr>\n",
       "      <th>3</th>\n",
       "      <td>8085410</td>\n",
       "      <td>http://43.153.207.103/InteractiveLogin?continu...</td>\n",
       "      <td>http://www.phishtank.com/phish_detail.php?phis...</td>\n",
       "      <td>2023-03-21T17:02:59+00:00</td>\n",
       "      <td>yes</td>\n",
       "      <td>2023-03-22T06:43:46+00:00</td>\n",
       "      <td>yes</td>\n",
       "      <td>Other</td>\n",
       "    </tr>\n",
       "    <tr>\n",
       "      <th>4</th>\n",
       "      <td>8341642</td>\n",
       "      <td>https://bafybeif2cieqzchgkeqhnfm7vwkp3iae2ut7m...</td>\n",
       "      <td>http://www.phishtank.com/phish_detail.php?phis...</td>\n",
       "      <td>2023-10-23T23:07:42+00:00</td>\n",
       "      <td>yes</td>\n",
       "      <td>2023-10-23T23:24:13+00:00</td>\n",
       "      <td>yes</td>\n",
       "      <td>Other</td>\n",
       "    </tr>\n",
       "  </tbody>\n",
       "</table>\n",
       "</div>"
      ],
      "text/plain": [
       "   phish_id                                                url  \\\n",
       "0   8346345  https://cloudflare-ipfs.com/ipfs/bafybeicq3rmo...   \n",
       "1   8139308                         https://bpzqkfwpy.web.app/   \n",
       "2   8367344  https://lawebdegerald-1322273052.cos.sa-saopau...   \n",
       "3   8085410  http://43.153.207.103/InteractiveLogin?continu...   \n",
       "4   8341642  https://bafybeif2cieqzchgkeqhnfm7vwkp3iae2ut7m...   \n",
       "\n",
       "                                    phish_detail_url  \\\n",
       "0  http://www.phishtank.com/phish_detail.php?phis...   \n",
       "1  http://www.phishtank.com/phish_detail.php?phis...   \n",
       "2  http://www.phishtank.com/phish_detail.php?phis...   \n",
       "3  http://www.phishtank.com/phish_detail.php?phis...   \n",
       "4  http://www.phishtank.com/phish_detail.php?phis...   \n",
       "\n",
       "             submission_time verified          verification_time online target  \n",
       "0  2023-10-27T19:34:21+00:00      yes  2023-10-27T19:53:16+00:00    yes  Other  \n",
       "1  2023-05-06T03:51:33+00:00      yes  2023-05-06T04:03:23+00:00    yes  Other  \n",
       "2  2023-11-17T11:18:43+00:00      yes  2023-11-17T11:23:29+00:00    yes  Other  \n",
       "3  2023-03-21T17:02:59+00:00      yes  2023-03-22T06:43:46+00:00    yes  Other  \n",
       "4  2023-10-23T23:07:42+00:00      yes  2023-10-23T23:24:13+00:00    yes  Other  "
      ]
     },
     "execution_count": 19,
     "metadata": {},
     "output_type": "execute_result"
    }
   ],
   "source": [
    "phishurl = data0.sample(n = 5000, random_state = 12).copy()\n",
    "phishurl = phishurl.reset_index(drop=True)\n",
    "phishurl.head()"
   ]
  },
  {
   "cell_type": "code",
   "execution_count": 20,
   "metadata": {},
   "outputs": [
    {
     "data": {
      "text/plain": [
       "(5000, 8)"
      ]
     },
     "execution_count": 20,
     "metadata": {},
     "output_type": "execute_result"
    }
   ],
   "source": [
    "phishurl.shape"
   ]
  },
  {
   "cell_type": "code",
   "execution_count": 21,
   "metadata": {},
   "outputs": [
    {
     "data": {
      "text/html": [
       "<div>\n",
       "<style scoped>\n",
       "    .dataframe tbody tr th:only-of-type {\n",
       "        vertical-align: middle;\n",
       "    }\n",
       "\n",
       "    .dataframe tbody tr th {\n",
       "        vertical-align: top;\n",
       "    }\n",
       "\n",
       "    .dataframe thead th {\n",
       "        text-align: right;\n",
       "    }\n",
       "</style>\n",
       "<table border=\"1\" class=\"dataframe\">\n",
       "  <thead>\n",
       "    <tr style=\"text-align: right;\">\n",
       "      <th></th>\n",
       "      <th>URLs</th>\n",
       "    </tr>\n",
       "  </thead>\n",
       "  <tbody>\n",
       "    <tr>\n",
       "      <th>0</th>\n",
       "      <td>http://1337x.to/torrent/1110018/Blackhat-2015-...</td>\n",
       "    </tr>\n",
       "    <tr>\n",
       "      <th>1</th>\n",
       "      <td>http://1337x.to/torrent/1122940/Blackhat-2015-...</td>\n",
       "    </tr>\n",
       "    <tr>\n",
       "      <th>2</th>\n",
       "      <td>http://1337x.to/torrent/1124395/Fast-and-Furio...</td>\n",
       "    </tr>\n",
       "    <tr>\n",
       "      <th>3</th>\n",
       "      <td>http://1337x.to/torrent/1145504/Avengers-Age-o...</td>\n",
       "    </tr>\n",
       "    <tr>\n",
       "      <th>4</th>\n",
       "      <td>http://1337x.to/torrent/1160078/Avengers-age-o...</td>\n",
       "    </tr>\n",
       "  </tbody>\n",
       "</table>\n",
       "</div>"
      ],
      "text/plain": [
       "                                                URLs\n",
       "0  http://1337x.to/torrent/1110018/Blackhat-2015-...\n",
       "1  http://1337x.to/torrent/1122940/Blackhat-2015-...\n",
       "2  http://1337x.to/torrent/1124395/Fast-and-Furio...\n",
       "3  http://1337x.to/torrent/1145504/Avengers-Age-o...\n",
       "4  http://1337x.to/torrent/1160078/Avengers-age-o..."
      ]
     },
     "execution_count": 21,
     "metadata": {},
     "output_type": "execute_result"
    }
   ],
   "source": [
    "data1 = pd.read_csv(\"Benign_list_big_final.csv\")\n",
    "data1.columns = ['URLs']\n",
    "data1.head()"
   ]
  },
  {
   "cell_type": "code",
   "execution_count": 22,
   "metadata": {},
   "outputs": [
    {
     "data": {
      "text/html": [
       "<div>\n",
       "<style scoped>\n",
       "    .dataframe tbody tr th:only-of-type {\n",
       "        vertical-align: middle;\n",
       "    }\n",
       "\n",
       "    .dataframe tbody tr th {\n",
       "        vertical-align: top;\n",
       "    }\n",
       "\n",
       "    .dataframe thead th {\n",
       "        text-align: right;\n",
       "    }\n",
       "</style>\n",
       "<table border=\"1\" class=\"dataframe\">\n",
       "  <thead>\n",
       "    <tr style=\"text-align: right;\">\n",
       "      <th></th>\n",
       "      <th>URLs</th>\n",
       "    </tr>\n",
       "  </thead>\n",
       "  <tbody>\n",
       "    <tr>\n",
       "      <th>0</th>\n",
       "      <td>http://graphicriver.net/search?date=this-month...</td>\n",
       "    </tr>\n",
       "    <tr>\n",
       "      <th>1</th>\n",
       "      <td>http://ecnavi.jp/redirect/?url=http://www.cros...</td>\n",
       "    </tr>\n",
       "    <tr>\n",
       "      <th>2</th>\n",
       "      <td>https://hubpages.com/signin?explain=follow+Hub...</td>\n",
       "    </tr>\n",
       "    <tr>\n",
       "      <th>3</th>\n",
       "      <td>http://extratorrent.cc/torrent/4190536/AOMEI+B...</td>\n",
       "    </tr>\n",
       "    <tr>\n",
       "      <th>4</th>\n",
       "      <td>http://icicibank.com/Personal-Banking/offers/o...</td>\n",
       "    </tr>\n",
       "  </tbody>\n",
       "</table>\n",
       "</div>"
      ],
      "text/plain": [
       "                                                URLs\n",
       "0  http://graphicriver.net/search?date=this-month...\n",
       "1  http://ecnavi.jp/redirect/?url=http://www.cros...\n",
       "2  https://hubpages.com/signin?explain=follow+Hub...\n",
       "3  http://extratorrent.cc/torrent/4190536/AOMEI+B...\n",
       "4  http://icicibank.com/Personal-Banking/offers/o..."
      ]
     },
     "execution_count": 22,
     "metadata": {},
     "output_type": "execute_result"
    }
   ],
   "source": [
    "legiurl = data1.sample(n = 5000, random_state = 12).copy()\n",
    "legiurl = legiurl.reset_index(drop=True)\n",
    "legiurl.head()"
   ]
  },
  {
   "cell_type": "code",
   "execution_count": 23,
   "metadata": {},
   "outputs": [
    {
     "data": {
      "text/plain": [
       "(5000, 1)"
      ]
     },
     "execution_count": 23,
     "metadata": {},
     "output_type": "execute_result"
    }
   ],
   "source": [
    "legiurl.shape"
   ]
  },
  {
   "cell_type": "code",
   "execution_count": 24,
   "metadata": {},
   "outputs": [],
   "source": [
    "from urllib.parse import urlparse,urlencode\n",
    "import ipaddress\n",
    "import re"
   ]
  },
  {
   "cell_type": "code",
   "execution_count": 25,
   "metadata": {},
   "outputs": [],
   "source": [
    "# 1.Domain of the URL (Domain) \n",
    "def getDomain(url):  \n",
    "  domain = urlparse(url).netloc\n",
    "  if re.match(r\"^www.\",domain):\n",
    "\t       domain = domain.replace(\"www.\",\"\")\n",
    "  return domain"
   ]
  },
  {
   "cell_type": "code",
   "execution_count": 26,
   "metadata": {},
   "outputs": [],
   "source": [
    "# 2.Checks for IP address in URL (Have_IP)\n",
    "def havingIP(url):\n",
    "  try:\n",
    "    ipaddress.ip_address(url)\n",
    "    ip = 1\n",
    "  except:\n",
    "    ip = 0\n",
    "  return ip\n"
   ]
  },
  {
   "cell_type": "code",
   "execution_count": 27,
   "metadata": {},
   "outputs": [],
   "source": [
    "# 3.Checks the presence of @ in URL (Have_At)\n",
    "def haveAtSign(url):\n",
    "  if \"@\" in url:\n",
    "    at = 1    \n",
    "  else:\n",
    "    at = 0    \n",
    "  return at"
   ]
  },
  {
   "cell_type": "code",
   "execution_count": 28,
   "metadata": {},
   "outputs": [],
   "source": [
    "# 4.Finding the length of URL and categorizing (URL_Length)\n",
    "def getLength(url):\n",
    "  if len(url) < 54:\n",
    "    length = 0            \n",
    "  else:\n",
    "    length = 1            \n",
    "  return length"
   ]
  },
  {
   "cell_type": "code",
   "execution_count": 29,
   "metadata": {},
   "outputs": [],
   "source": [
    "# 5.Gives number of '/' in URL (URL_Depth)\n",
    "def getDepth(url):\n",
    "  s = urlparse(url).path.split('/')\n",
    "  depth = 0\n",
    "  for j in range(len(s)):\n",
    "    if len(s[j]) != 0:\n",
    "      depth = depth+1\n",
    "  return depth"
   ]
  },
  {
   "cell_type": "code",
   "execution_count": 30,
   "metadata": {},
   "outputs": [],
   "source": [
    "# 6.Checking for redirection '//' in the url (Redirection)\n",
    "def redirection(url):\n",
    "  pos = url.rfind('//')\n",
    "  if pos > 6:\n",
    "    if pos > 7:\n",
    "      return 1\n",
    "    else:\n",
    "      return 0\n",
    "  else:\n",
    "    return 0"
   ]
  },
  {
   "cell_type": "code",
   "execution_count": 31,
   "metadata": {},
   "outputs": [],
   "source": [
    "# 7.Existence of “HTTPS” Token in the Domain Part of the URL (https_Domain)\n",
    "def httpDomain(url):\n",
    "  domain = urlparse(url).netloc\n",
    "  if 'https' in domain:\n",
    "    return 1\n",
    "  else:\n",
    "    return 0"
   ]
  },
  {
   "cell_type": "code",
   "execution_count": 32,
   "metadata": {},
   "outputs": [],
   "source": [
    "#listing shortening services\n",
    "shortening_services = r\"bit\\.ly|goo\\.gl|shorte\\.st|go2l\\.ink|x\\.co|ow\\.ly|t\\.co|tinyurl|tr\\.im|is\\.gd|cli\\.gs|\" \\\n",
    "                      r\"yfrog\\.com|migre\\.me|ff\\.im|tiny\\.cc|url4\\.eu|twit\\.ac|su\\.pr|twurl\\.nl|snipurl\\.com|\" \\\n",
    "                      r\"short\\.to|BudURL\\.com|ping\\.fm|post\\.ly|Just\\.as|bkite\\.com|snipr\\.com|fic\\.kr|loopt\\.us|\" \\\n",
    "                      r\"doiop\\.com|short\\.ie|kl\\.am|wp\\.me|rubyurl\\.com|om\\.ly|to\\.ly|bit\\.do|t\\.co|lnkd\\.in|db\\.tt|\" \\\n",
    "                      r\"qr\\.ae|adf\\.ly|goo\\.gl|bitly\\.com|cur\\.lv|tinyurl\\.com|ow\\.ly|bit\\.ly|ity\\.im|q\\.gs|is\\.gd|\" \\\n",
    "                      r\"po\\.st|bc\\.vc|twitthis\\.com|u\\.to|j\\.mp|buzurl\\.com|cutt\\.us|u\\.bb|yourls\\.org|x\\.co|\" \\\n",
    "                      r\"prettylinkpro\\.com|scrnch\\.me|filoops\\.info|vzturl\\.com|qr\\.net|1url\\.com|tweez\\.me|v\\.gd|\" \\\n",
    "                      r\"tr\\.im|link\\.zip\\.net\""
   ]
  },
  {
   "cell_type": "code",
   "execution_count": 33,
   "metadata": {},
   "outputs": [],
   "source": [
    "# 8. Checking for Shortening Services in URL (Tiny_URL)\n",
    "def tinyURL(url):\n",
    "    match=re.search(shortening_services,url)\n",
    "    if match:\n",
    "        return 1\n",
    "    else:\n",
    "        return 0"
   ]
  },
  {
   "cell_type": "code",
   "execution_count": 34,
   "metadata": {},
   "outputs": [],
   "source": [
    "# 9.Checking for Prefix or Suffix Separated by (-) in the Domain (Prefix/Suffix)\n",
    "def prefixSuffix(url):\n",
    "    if '-' in urlparse(url).netloc:\n",
    "        return 1            # phishing\n",
    "    else:\n",
    "        return 0            # legitimate"
   ]
  },
  {
   "cell_type": "code",
   "execution_count": 35,
   "metadata": {},
   "outputs": [
    {
     "name": "stdout",
     "output_type": "stream",
     "text": [
      "Requirement already satisfied: python-whois in /Users/nishatahmed/opt/anaconda3/envs/DEEPLABCUT/lib/python3.8/site-packages (0.8.0)\n",
      "Requirement already satisfied: future in /Users/nishatahmed/opt/anaconda3/envs/DEEPLABCUT/lib/python3.8/site-packages (from python-whois) (0.18.3)\n"
     ]
    }
   ],
   "source": [
    "!pip install python-whois"
   ]
  },
  {
   "cell_type": "code",
   "execution_count": 36,
   "metadata": {},
   "outputs": [],
   "source": [
    "import re\n",
    "from bs4 import BeautifulSoup\n",
    "import whois\n",
    "import urllib\n",
    "import urllib.request\n",
    "from datetime import datetime"
   ]
  },
  {
   "cell_type": "code",
   "execution_count": 37,
   "metadata": {},
   "outputs": [
    {
     "ename": "NameError",
     "evalue": "name 'url' is not defined",
     "output_type": "error",
     "traceback": [
      "\u001b[0;31m---------------------------------------------------------------------------\u001b[0m",
      "\u001b[0;31mNameError\u001b[0m                                 Traceback (most recent call last)",
      "\u001b[0;32m/var/folders/mv/f244gtbd19g9p_j9dh_pxslc0000gn/T/ipykernel_19495/3512606289.py\u001b[0m in \u001b[0;36m<module>\u001b[0;34m\u001b[0m\n\u001b[0;32m----> 1\u001b[0;31m \u001b[0mprint\u001b[0m\u001b[0;34m(\u001b[0m\u001b[0murl\u001b[0m\u001b[0;34m)\u001b[0m\u001b[0;34m\u001b[0m\u001b[0;34m\u001b[0m\u001b[0m\n\u001b[0m",
      "\u001b[0;31mNameError\u001b[0m: name 'url' is not defined"
     ]
    }
   ],
   "source": [
    "print(url)"
   ]
  },
  {
   "cell_type": "code",
   "execution_count": 38,
   "metadata": {},
   "outputs": [],
   "source": [
    "# 12.Web traffic (Web_Traffic)\n",
    "from urllib.parse import unquote\n",
    "\n",
    "def web_traffic(url):\n",
    "    try:\n",
    "        # Decode the URL from percent-encoded form to normal form\n",
    "        decoded_url = unquote(url)\n",
    "        decoded_url = urllib.parse.quote(decoded_url)  # Re-encode only the necessary parts\n",
    "        rank = BeautifulSoup(urllib.request.urlopen(\"http://data.alexa.com/data?cli=10&dat=s&url=\" + decoded_url).read(), \"xml\").find(\n",
    "            \"REACH\")['RANK']\n",
    "        rank = int(rank)\n",
    "    except urllib.error.URLError as e:\n",
    "        print(f\"Error accessing URL {decoded_url}: {e}\")\n",
    "        return 0  # or return a default value or handle the error as needed\n",
    "    except TypeError:\n",
    "        return 1\n",
    "\n",
    "    if rank < 100000:\n",
    "        return 1\n",
    "    else:\n",
    "        return 0\n",
    "\n"
   ]
  },
  {
   "cell_type": "code",
   "execution_count": 39,
   "metadata": {},
   "outputs": [],
   "source": [
    "# 13.Survival time of domain: The difference between termination time and creation time (Domain_Age)  \n",
    "def domainAge(domain_name):\n",
    "  creation_date = domain_name.creation_date\n",
    "  expiration_date = domain_name.expiration_date\n",
    "  if (isinstance(creation_date,str) or isinstance(expiration_date,str)):\n",
    "    try:\n",
    "      creation_date = datetime.strptime(creation_date,'%Y-%m-%d')\n",
    "      expiration_date = datetime.strptime(expiration_date,\"%Y-%m-%d\")\n",
    "    except:\n",
    "      return 1\n",
    "  if ((expiration_date is None) or (creation_date is None)):\n",
    "      return 1\n",
    "  elif ((type(expiration_date) is list) or (type(creation_date) is list)):\n",
    "      return 1\n",
    "  else:\n",
    "    ageofdomain = abs((expiration_date - creation_date).days)\n",
    "    if ((ageofdomain/30) < 6):\n",
    "      age = 1\n",
    "    else:\n",
    "      age = 0\n",
    "  return age"
   ]
  },
  {
   "cell_type": "code",
   "execution_count": 40,
   "metadata": {},
   "outputs": [],
   "source": [
    "# 14.End time of domain: The difference between termination time and current time (Domain_End) \n",
    "def domainEnd(domain_name):\n",
    "  expiration_date = domain_name.expiration_date\n",
    "  if isinstance(expiration_date,str):\n",
    "    try:\n",
    "      expiration_date = datetime.strptime(expiration_date,\"%Y-%m-%d\")\n",
    "    except:\n",
    "      return 1\n",
    "  if (expiration_date is None):\n",
    "      return 1\n",
    "  elif (type(expiration_date) is list):\n",
    "      return 1\n",
    "  else:\n",
    "    today = datetime.now()\n",
    "    end = abs((expiration_date - today).days)\n",
    "    if ((end/30) < 6):\n",
    "      end = 0\n",
    "    else:\n",
    "      end = 1\n",
    "  return end"
   ]
  },
  {
   "cell_type": "code",
   "execution_count": 41,
   "metadata": {},
   "outputs": [],
   "source": [
    "import requests"
   ]
  },
  {
   "cell_type": "code",
   "execution_count": 42,
   "metadata": {},
   "outputs": [],
   "source": [
    "# 15. IFrame Redirection (iFrame)\n",
    "def iframe(response):\n",
    "  if response == \"\":\n",
    "      return 1\n",
    "  else:\n",
    "      if re.findall(r\"[|]\", response.text):\n",
    "          return 0\n",
    "      else:\n",
    "          return 1\n",
    "     "
   ]
  },
  {
   "cell_type": "code",
   "execution_count": 43,
   "metadata": {},
   "outputs": [],
   "source": [
    "# 16.Checks the effect of mouse over on status bar (Mouse_Over)\n",
    "def mouseOver(response): \n",
    "  if response == \"\" :\n",
    "    return 1\n",
    "  else:\n",
    "    if re.findall(\"\", response.text):\n",
    "      return 1\n",
    "    else:\n",
    "      return 0"
   ]
  },
  {
   "cell_type": "code",
   "execution_count": 44,
   "metadata": {},
   "outputs": [],
   "source": [
    "# 17.Checks the status of the right click attribute (Right_Click)\n",
    "def rightClick(response):\n",
    "  if response == \"\":\n",
    "    return 1\n",
    "  else:\n",
    "    if re.findall(r\"event.button ?== ?2\", response.text):\n",
    "      return 0\n",
    "    else:\n",
    "      return 1\n",
    "     "
   ]
  },
  {
   "cell_type": "code",
   "execution_count": 45,
   "metadata": {},
   "outputs": [],
   "source": [
    "\n",
    "# 18.Checks the number of forwardings (Web_Forwards)    \n",
    "def forwarding(response):\n",
    "  if response == \"\":\n",
    "    return 1\n",
    "  else:\n",
    "    if len(response.history) <= 2:\n",
    "      return 0\n",
    "    else:\n",
    "      return 1\n",
    "     "
   ]
  },
  {
   "cell_type": "code",
   "execution_count": 46,
   "metadata": {},
   "outputs": [],
   "source": [
    "#Function to extract features\n",
    "def featureExtraction(url,label):\n",
    "\n",
    "  features = []\n",
    "  #Address bar based features (10)\n",
    "  features.append(getDomain(url))\n",
    "  features.append(havingIP(url))\n",
    "  features.append(haveAtSign(url))\n",
    "  features.append(getLength(url))\n",
    "  features.append(getDepth(url))\n",
    "  features.append(redirection(url))\n",
    "  features.append(httpDomain(url))\n",
    "  features.append(tinyURL(url))\n",
    "  features.append(prefixSuffix(url))\n",
    "  \n",
    "  #Domain based features (4)\n",
    "  dns = 0\n",
    "  try:\n",
    "    domain_name = whois.whois(urlparse(url).netloc)\n",
    "  except:\n",
    "    dns = 1\n",
    "\n",
    "  features.append(dns)\n",
    "  features.append(web_traffic(url))\n",
    "  features.append(1 if dns == 1 else domainAge(domain_name))\n",
    "  features.append(1 if dns == 1 else domainEnd(domain_name))\n",
    "  \n",
    "  # HTML & Javascript based features (4)\n",
    "  try:\n",
    "    response = requests.get(url)\n",
    "  except:\n",
    "    response = \"\"\n",
    "  features.append(iframe(response))\n",
    "  features.append(mouseOver(response))\n",
    "  features.append(rightClick(response))\n",
    "  features.append(forwarding(response))\n",
    "  features.append(label)\n",
    "  \n",
    "  return features"
   ]
  },
  {
   "cell_type": "code",
   "execution_count": 47,
   "metadata": {},
   "outputs": [
    {
     "data": {
      "text/plain": [
       "(5000, 1)"
      ]
     },
     "execution_count": 47,
     "metadata": {},
     "output_type": "execute_result"
    }
   ],
   "source": [
    "legiurl.shape\n"
   ]
  },
  {
   "cell_type": "code",
   "execution_count": 48,
   "metadata": {},
   "outputs": [
    {
     "name": "stdout",
     "output_type": "stream",
     "text": [
      "Error accessing URL http%3A//graphicriver.net/search%3Fdate%3Dthis-month%26length_max%3D%26length_min%3D%26price_max%3D%26price_min%3D%26rating_min%3D%26sales%3D%26sort%3Dsales%26term%3D%26view%3Dlist: <urlopen error [Errno 8] nodename nor servname provided, or not known>\n",
      "Error accessing URL http%3A//ecnavi.jp/redirect/%3Furl%3Dhttp%3A//www.cross-a.net/x.php%3Fid%3D1845_3212_22061_26563%26m%3D1004%26pid%3D%25user_id%25: <urlopen error [Errno 8] nodename nor servname provided, or not known>\n",
      "Error accessing URL https%3A//hubpages.com/signin%3Fexplain%3Dfollow%2BHubs%26url%3D%252Fhub%252FComfort-Theories-of-Religion: <urlopen error [Errno 8] nodename nor servname provided, or not known>\n",
      "Error accessing URL http%3A//extratorrent.cc/torrent/4190536/AOMEI%2BBackupper%2BTechnician%2B%252B%2BServer%2BEdition%2B2.8.0%2B%252B%2BPatch%2B%252B%2BKey%2B%252B%2B100%2525%2BWorking.html: <urlopen error [Errno 8] nodename nor servname provided, or not known>\n",
      "Error accessing URL http%3A//icicibank.com/Personal-Banking/offers/offer-detail.page%3Fid%3Doffer-ezeego-domestic-airtravel-20141407112611060: <urlopen error [Errno 8] nodename nor servname provided, or not known>\n",
      "Error accessing URL http%3A//nypost.com/2015/05/07/us-indifference-leaves-saudis-partnering-with-terrorists/: <urlopen error [Errno 8] nodename nor servname provided, or not known>\n",
      "Error trying to connect to socket: closing socket - [Errno 8] nodename nor servname provided, or not known\n",
      "Error accessing URL http%3A//kienthuc.net.vn/diem-thi/diem-chuan-dh-cong-nghe-giao-thong-van-tai-nam-2014-482407.html: <urlopen error [Errno 8] nodename nor servname provided, or not known>\n",
      "Error accessing URL http%3A//thenextweb.com/in/2015/04/16/india-wants-a-neutral-web-and-facebooks-internet-org-cant-be-a-part-of-it/gtm.js: <urlopen error [Errno 8] nodename nor servname provided, or not known>\n",
      "Error accessing URL http%3A//tobogo.net/cdsb/board.php%3Fboard%3Dgreet%26bm%3Dview%26no%3D5716%26category%3D%26auth%3D%26page%3D1%26search%3D%26keyword%3D%26recom%3D: <urlopen error [Errno 8] nodename nor servname provided, or not known>\n",
      "Error accessing URL http%3A//akhbarelyom.com/news/newdetails/411395/1/%25D9%2585%25D8%25AD%25D8%25A7%25D9%2581%25D8%25B8-%25D8%25A7%25D9%2584%25D8%25A8%25D8%25AD%25D9%258A%25D8%25B1.html: <urlopen error [Errno 8] nodename nor servname provided, or not known>\n",
      "Error accessing URL http%3A//tunein.com/radio/Carolina-Mudcats-at-Myrtle-Beach-Pelicans-May-13-2015-p729095/15480783/ca-pub-1542925551861702/ProgramTopBanner: <urlopen error [Errno 8] nodename nor servname provided, or not known>\n",
      "Error trying to connect to socket: closing socket - [Errno 8] nodename nor servname provided, or not known\n",
      "Error accessing URL https%3A//tune.pk/video/6046458/canelo-vs-kirkland-highlights-hbo-world-championship-boxing: <urlopen error [Errno 8] nodename nor servname provided, or not known>\n",
      "Error accessing URL http%3A//sfglobe.com/2015/05/01/six-baltimore-police-officers-charged-in-freddie-grays-death/%3Fsrc%3Dhome_feed: <urlopen error [Errno 8] nodename nor servname provided, or not known>\n",
      "Error accessing URL http%3A//mic.com/articles/107372/49-tremendous-things-florida-men-accomplished-this-year: <urlopen error [Errno 8] nodename nor servname provided, or not known>\n",
      "Error accessing URL http%3A//thenextweb.com/apps/2015/05/07/flickr-launches-redesigned-mobile-apps-encourages-you-to-upload-your-entire-camera-roll/gtm.js: <urlopen error [Errno 8] nodename nor servname provided, or not known>\n",
      "Error accessing URL http%3A//couchtuner.eu.com/2013/05/anger-management-s2-e17-charlie-lets-kate-take-charge.html: <urlopen error [Errno 8] nodename nor servname provided, or not known>\n",
      "Error accessing URL http%3A//olx.in/hi/item/nokia-5800-express-music-perfect-working-condition-body-average-cond-IDTIzUp.html: <urlopen error [Errno 8] nodename nor servname provided, or not known>\n"
     ]
    }
   ],
   "source": [
    "legi_features = []\n",
    "label = 0\n",
    "\n",
    "for i in range(0, 5000):\n",
    "  url = legiurl['URLs'][i]\n",
    "  legi_features.append(featureExtraction(url,label))"
   ]
  }
 ],
 "metadata": {
  "kernelspec": {
   "display_name": "Python 3",
   "language": "python",
   "name": "python3"
  },
  "language_info": {
   "codemirror_mode": {
    "name": "ipython",
    "version": 3
   },
   "file_extension": ".py",
   "mimetype": "text/x-python",
   "name": "python",
   "nbconvert_exporter": "python",
   "pygments_lexer": "ipython3",
   "version": "3.8.12"
  }
 },
 "nbformat": 4,
 "nbformat_minor": 2
}
